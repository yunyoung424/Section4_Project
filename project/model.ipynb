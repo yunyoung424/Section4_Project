{
 "cells": [
  {
   "cell_type": "code",
   "execution_count": 156,
   "metadata": {},
   "outputs": [],
   "source": [
    "import sqlite3\n",
    "import pandas as pd\n",
    "import numpy as np\n",
    "import pickle\n",
    "import json\n",
    "from sklearn.feature_extraction.text import TfidfVectorizer, CountVectorizer\n",
    "from sklearn.metrics.pairwise import cosine_similarity"
   ]
  },
  {
   "cell_type": "code",
   "execution_count": 157,
   "metadata": {},
   "outputs": [],
   "source": [
    "# 데이터베이스 연결\n",
    "conn = sqlite3.connect('C:/Users/yunyo/project/movie_recommender/movies.db')\n",
    "\n",
    "# 쿼리로 데이터 가져오기\n",
    "query1 = \"SELECT * FROM movies\"\n",
    "query2 = \"SELECT * FROM movie_details\"\n",
    "df1 = pd.read_sql_query(query1, conn)\n",
    "df2 = pd.read_sql_query(query2, conn)\n",
    "\n",
    "# 데이터베이스 연결 해제\n",
    "conn.close()"
   ]
  },
  {
   "cell_type": "code",
   "execution_count": 158,
   "metadata": {},
   "outputs": [
    {
     "data": {
      "text/html": [
       "<div>\n",
       "<style scoped>\n",
       "    .dataframe tbody tr th:only-of-type {\n",
       "        vertical-align: middle;\n",
       "    }\n",
       "\n",
       "    .dataframe tbody tr th {\n",
       "        vertical-align: top;\n",
       "    }\n",
       "\n",
       "    .dataframe thead th {\n",
       "        text-align: right;\n",
       "    }\n",
       "</style>\n",
       "<table border=\"1\" class=\"dataframe\">\n",
       "  <thead>\n",
       "    <tr style=\"text-align: right;\">\n",
       "      <th></th>\n",
       "      <th>movie_id</th>\n",
       "      <th>title</th>\n",
       "      <th>release_date</th>\n",
       "      <th>popularity</th>\n",
       "      <th>vote_average</th>\n",
       "      <th>vote_count</th>\n",
       "      <th>overview</th>\n",
       "      <th>poster_path</th>\n",
       "      <th>genres</th>\n",
       "    </tr>\n",
       "  </thead>\n",
       "  <tbody>\n",
       "    <tr>\n",
       "      <th>0</th>\n",
       "      <td>5</td>\n",
       "      <td>Four Rooms</td>\n",
       "      <td>1995-12-09</td>\n",
       "      <td>18.413</td>\n",
       "      <td>5.8</td>\n",
       "      <td>2380</td>\n",
       "      <td>It's Ted the Bellhop's first night on the job....</td>\n",
       "      <td>/75aHn1NOYXh4M7L5shoeQ6NGykP.jpg</td>\n",
       "      <td>[{\"id\": 80, \"name\": \"Crime\"}, {\"id\": 35, \"name...</td>\n",
       "    </tr>\n",
       "    <tr>\n",
       "      <th>1</th>\n",
       "      <td>6</td>\n",
       "      <td>Judgment Night</td>\n",
       "      <td>1993-10-15</td>\n",
       "      <td>9.805</td>\n",
       "      <td>6.6</td>\n",
       "      <td>285</td>\n",
       "      <td>While racing to a boxing match, Frank, Mike, J...</td>\n",
       "      <td>/3rvvpS9YPM5HB2f4HYiNiJVtdam.jpg</td>\n",
       "      <td>[{\"id\": 28, \"name\": \"Action\"}, {\"id\": 80, \"nam...</td>\n",
       "    </tr>\n",
       "    <tr>\n",
       "      <th>2</th>\n",
       "      <td>11</td>\n",
       "      <td>Star Wars</td>\n",
       "      <td>1977-05-25</td>\n",
       "      <td>88.660</td>\n",
       "      <td>8.2</td>\n",
       "      <td>18755</td>\n",
       "      <td>Princess Leia is captured and held hostage by ...</td>\n",
       "      <td>/6FfCtAuVAW8XJjZ7eWeLibRLWTw.jpg</td>\n",
       "      <td>[{\"id\": 12, \"name\": \"Adventure\"}, {\"id\": 28, \"...</td>\n",
       "    </tr>\n",
       "  </tbody>\n",
       "</table>\n",
       "</div>"
      ],
      "text/plain": [
       "   movie_id           title release_date  popularity  vote_average  \\\n",
       "0         5      Four Rooms   1995-12-09      18.413           5.8   \n",
       "1         6  Judgment Night   1993-10-15       9.805           6.6   \n",
       "2        11       Star Wars   1977-05-25      88.660           8.2   \n",
       "\n",
       "   vote_count                                           overview  \\\n",
       "0        2380  It's Ted the Bellhop's first night on the job....   \n",
       "1         285  While racing to a boxing match, Frank, Mike, J...   \n",
       "2       18755  Princess Leia is captured and held hostage by ...   \n",
       "\n",
       "                        poster_path  \\\n",
       "0  /75aHn1NOYXh4M7L5shoeQ6NGykP.jpg   \n",
       "1  /3rvvpS9YPM5HB2f4HYiNiJVtdam.jpg   \n",
       "2  /6FfCtAuVAW8XJjZ7eWeLibRLWTw.jpg   \n",
       "\n",
       "                                              genres  \n",
       "0  [{\"id\": 80, \"name\": \"Crime\"}, {\"id\": 35, \"name...  \n",
       "1  [{\"id\": 28, \"name\": \"Action\"}, {\"id\": 80, \"nam...  \n",
       "2  [{\"id\": 12, \"name\": \"Adventure\"}, {\"id\": 28, \"...  "
      ]
     },
     "execution_count": 158,
     "metadata": {},
     "output_type": "execute_result"
    }
   ],
   "source": [
    "df1.head(3)"
   ]
  },
  {
   "cell_type": "code",
   "execution_count": 159,
   "metadata": {},
   "outputs": [
    {
     "data": {
      "text/html": [
       "<div>\n",
       "<style scoped>\n",
       "    .dataframe tbody tr th:only-of-type {\n",
       "        vertical-align: middle;\n",
       "    }\n",
       "\n",
       "    .dataframe tbody tr th {\n",
       "        vertical-align: top;\n",
       "    }\n",
       "\n",
       "    .dataframe thead th {\n",
       "        text-align: right;\n",
       "    }\n",
       "</style>\n",
       "<table border=\"1\" class=\"dataframe\">\n",
       "  <thead>\n",
       "    <tr style=\"text-align: right;\">\n",
       "      <th></th>\n",
       "      <th>movie_id</th>\n",
       "      <th>cast</th>\n",
       "      <th>crew</th>\n",
       "      <th>keywords</th>\n",
       "    </tr>\n",
       "  </thead>\n",
       "  <tbody>\n",
       "    <tr>\n",
       "      <th>0</th>\n",
       "      <td>5</td>\n",
       "      <td>[{\"adult\": false, \"gender\": 2, \"id\": 3129, \"kn...</td>\n",
       "      <td>[{\"adult\": false, \"gender\": 1, \"id\": 3110, \"kn...</td>\n",
       "      <td>{\"id\": 5, \"keywords\": [{\"id\": 612, \"name\": \"ho...</td>\n",
       "    </tr>\n",
       "    <tr>\n",
       "      <th>1</th>\n",
       "      <td>6</td>\n",
       "      <td>[{\"adult\": false, \"gender\": 2, \"id\": 2880, \"kn...</td>\n",
       "      <td>[{\"adult\": false, \"gender\": 2, \"id\": 2042, \"kn...</td>\n",
       "      <td>{\"id\": 6, \"keywords\": [{\"id\": 520, \"name\": \"ch...</td>\n",
       "    </tr>\n",
       "    <tr>\n",
       "      <th>2</th>\n",
       "      <td>11</td>\n",
       "      <td>[{\"adult\": false, \"gender\": 2, \"id\": 2, \"known...</td>\n",
       "      <td>[{\"adult\": false, \"gender\": 2, \"id\": 1, \"known...</td>\n",
       "      <td>{\"id\": 11, \"keywords\": [{\"id\": 803, \"name\": \"a...</td>\n",
       "    </tr>\n",
       "  </tbody>\n",
       "</table>\n",
       "</div>"
      ],
      "text/plain": [
       "   movie_id                                               cast  \\\n",
       "0         5  [{\"adult\": false, \"gender\": 2, \"id\": 3129, \"kn...   \n",
       "1         6  [{\"adult\": false, \"gender\": 2, \"id\": 2880, \"kn...   \n",
       "2        11  [{\"adult\": false, \"gender\": 2, \"id\": 2, \"known...   \n",
       "\n",
       "                                                crew  \\\n",
       "0  [{\"adult\": false, \"gender\": 1, \"id\": 3110, \"kn...   \n",
       "1  [{\"adult\": false, \"gender\": 2, \"id\": 2042, \"kn...   \n",
       "2  [{\"adult\": false, \"gender\": 2, \"id\": 1, \"known...   \n",
       "\n",
       "                                            keywords  \n",
       "0  {\"id\": 5, \"keywords\": [{\"id\": 612, \"name\": \"ho...  \n",
       "1  {\"id\": 6, \"keywords\": [{\"id\": 520, \"name\": \"ch...  \n",
       "2  {\"id\": 11, \"keywords\": [{\"id\": 803, \"name\": \"a...  "
      ]
     },
     "execution_count": 159,
     "metadata": {},
     "output_type": "execute_result"
    }
   ],
   "source": [
    "df2.head(3)"
   ]
  },
  {
   "cell_type": "code",
   "execution_count": 160,
   "metadata": {},
   "outputs": [
    {
     "data": {
      "text/plain": [
       "((9959, 9), (9979, 4))"
      ]
     },
     "execution_count": 160,
     "metadata": {},
     "output_type": "execute_result"
    }
   ],
   "source": [
    "df1.shape, df2.shape"
   ]
  },
  {
   "cell_type": "code",
   "execution_count": 161,
   "metadata": {},
   "outputs": [
    {
     "data": {
      "text/plain": [
       "Index(['movie_id', 'title', 'release_date', 'popularity', 'vote_average',\n",
       "       'vote_count', 'overview', 'poster_path', 'genres'],\n",
       "      dtype='object')"
      ]
     },
     "execution_count": 161,
     "metadata": {},
     "output_type": "execute_result"
    }
   ],
   "source": [
    "df1.columns"
   ]
  },
  {
   "cell_type": "code",
   "execution_count": 162,
   "metadata": {},
   "outputs": [
    {
     "data": {
      "text/plain": [
       "Index(['movie_id', 'cast', 'crew', 'keywords'], dtype='object')"
      ]
     },
     "execution_count": 162,
     "metadata": {},
     "output_type": "execute_result"
    }
   ],
   "source": [
    "df2.columns"
   ]
  },
  {
   "cell_type": "code",
   "execution_count": 163,
   "metadata": {},
   "outputs": [
    {
     "name": "stdout",
     "output_type": "stream",
     "text": [
      "<class 'pandas.core.frame.DataFrame'>\n",
      "RangeIndex: 9959 entries, 0 to 9958\n",
      "Data columns (total 12 columns):\n",
      " #   Column        Non-Null Count  Dtype  \n",
      "---  ------        --------------  -----  \n",
      " 0   movie_id      9959 non-null   int64  \n",
      " 1   title         9959 non-null   object \n",
      " 2   release_date  9959 non-null   object \n",
      " 3   popularity    9959 non-null   float64\n",
      " 4   vote_average  9959 non-null   float64\n",
      " 5   vote_count    9959 non-null   int64  \n",
      " 6   overview      9959 non-null   object \n",
      " 7   poster_path   9925 non-null   object \n",
      " 8   genres        9959 non-null   object \n",
      " 9   cast          9959 non-null   object \n",
      " 10  crew          9959 non-null   object \n",
      " 11  keywords      9959 non-null   object \n",
      "dtypes: float64(2), int64(2), object(8)\n",
      "memory usage: 933.8+ KB\n"
     ]
    }
   ],
   "source": [
    "df = pd.merge(df1, df2, on='movie_id', how='inner')\n",
    "df.info()"
   ]
  },
  {
   "cell_type": "code",
   "execution_count": 164,
   "metadata": {},
   "outputs": [
    {
     "data": {
      "text/html": [
       "<div>\n",
       "<style scoped>\n",
       "    .dataframe tbody tr th:only-of-type {\n",
       "        vertical-align: middle;\n",
       "    }\n",
       "\n",
       "    .dataframe tbody tr th {\n",
       "        vertical-align: top;\n",
       "    }\n",
       "\n",
       "    .dataframe thead th {\n",
       "        text-align: right;\n",
       "    }\n",
       "</style>\n",
       "<table border=\"1\" class=\"dataframe\">\n",
       "  <thead>\n",
       "    <tr style=\"text-align: right;\">\n",
       "      <th></th>\n",
       "      <th>movie_id</th>\n",
       "      <th>title</th>\n",
       "      <th>release_date</th>\n",
       "      <th>popularity</th>\n",
       "      <th>vote_average</th>\n",
       "      <th>vote_count</th>\n",
       "      <th>overview</th>\n",
       "      <th>poster_path</th>\n",
       "      <th>genres</th>\n",
       "      <th>cast</th>\n",
       "      <th>crew</th>\n",
       "      <th>keywords</th>\n",
       "    </tr>\n",
       "  </thead>\n",
       "  <tbody>\n",
       "    <tr>\n",
       "      <th>0</th>\n",
       "      <td>5</td>\n",
       "      <td>Four Rooms</td>\n",
       "      <td>1995-12-09</td>\n",
       "      <td>18.413</td>\n",
       "      <td>5.8</td>\n",
       "      <td>2380</td>\n",
       "      <td>It's Ted the Bellhop's first night on the job....</td>\n",
       "      <td>/75aHn1NOYXh4M7L5shoeQ6NGykP.jpg</td>\n",
       "      <td>[{\"id\": 80, \"name\": \"Crime\"}, {\"id\": 35, \"name...</td>\n",
       "      <td>[{\"adult\": false, \"gender\": 2, \"id\": 3129, \"kn...</td>\n",
       "      <td>[{\"adult\": false, \"gender\": 1, \"id\": 3110, \"kn...</td>\n",
       "      <td>{\"id\": 5, \"keywords\": [{\"id\": 612, \"name\": \"ho...</td>\n",
       "    </tr>\n",
       "    <tr>\n",
       "      <th>1</th>\n",
       "      <td>6</td>\n",
       "      <td>Judgment Night</td>\n",
       "      <td>1993-10-15</td>\n",
       "      <td>9.805</td>\n",
       "      <td>6.6</td>\n",
       "      <td>285</td>\n",
       "      <td>While racing to a boxing match, Frank, Mike, J...</td>\n",
       "      <td>/3rvvpS9YPM5HB2f4HYiNiJVtdam.jpg</td>\n",
       "      <td>[{\"id\": 28, \"name\": \"Action\"}, {\"id\": 80, \"nam...</td>\n",
       "      <td>[{\"adult\": false, \"gender\": 2, \"id\": 2880, \"kn...</td>\n",
       "      <td>[{\"adult\": false, \"gender\": 2, \"id\": 2042, \"kn...</td>\n",
       "      <td>{\"id\": 6, \"keywords\": [{\"id\": 520, \"name\": \"ch...</td>\n",
       "    </tr>\n",
       "    <tr>\n",
       "      <th>2</th>\n",
       "      <td>11</td>\n",
       "      <td>Star Wars</td>\n",
       "      <td>1977-05-25</td>\n",
       "      <td>88.660</td>\n",
       "      <td>8.2</td>\n",
       "      <td>18755</td>\n",
       "      <td>Princess Leia is captured and held hostage by ...</td>\n",
       "      <td>/6FfCtAuVAW8XJjZ7eWeLibRLWTw.jpg</td>\n",
       "      <td>[{\"id\": 12, \"name\": \"Adventure\"}, {\"id\": 28, \"...</td>\n",
       "      <td>[{\"adult\": false, \"gender\": 2, \"id\": 2, \"known...</td>\n",
       "      <td>[{\"adult\": false, \"gender\": 2, \"id\": 1, \"known...</td>\n",
       "      <td>{\"id\": 11, \"keywords\": [{\"id\": 803, \"name\": \"a...</td>\n",
       "    </tr>\n",
       "    <tr>\n",
       "      <th>3</th>\n",
       "      <td>12</td>\n",
       "      <td>Finding Nemo</td>\n",
       "      <td>2003-05-30</td>\n",
       "      <td>85.520</td>\n",
       "      <td>7.8</td>\n",
       "      <td>17741</td>\n",
       "      <td>Nemo, an adventurous young clownfish, is unexp...</td>\n",
       "      <td>/eHuGQ10FUzK1mdOY69wF5pGgEf5.jpg</td>\n",
       "      <td>[{\"id\": 16, \"name\": \"Animation\"}, {\"id\": 10751...</td>\n",
       "      <td>[{\"adult\": false, \"gender\": 2, \"id\": 13, \"know...</td>\n",
       "      <td>[{\"adult\": false, \"gender\": 2, \"id\": 7, \"known...</td>\n",
       "      <td>{\"id\": 12, \"keywords\": [{\"id\": 970, \"name\": \"p...</td>\n",
       "    </tr>\n",
       "    <tr>\n",
       "      <th>4</th>\n",
       "      <td>13</td>\n",
       "      <td>Forrest Gump</td>\n",
       "      <td>1994-06-23</td>\n",
       "      <td>66.808</td>\n",
       "      <td>8.5</td>\n",
       "      <td>24789</td>\n",
       "      <td>A man with a low IQ has accomplished great thi...</td>\n",
       "      <td>/arw2vcBveWOVZr6pxd9XTd1TdQa.jpg</td>\n",
       "      <td>[{\"id\": 35, \"name\": \"Comedy\"}, {\"id\": 18, \"nam...</td>\n",
       "      <td>[{\"adult\": false, \"gender\": 2, \"id\": 31, \"know...</td>\n",
       "      <td>[{\"adult\": false, \"gender\": 2, \"id\": 37, \"know...</td>\n",
       "      <td>{\"id\": 13, \"keywords\": [{\"id\": 422, \"name\": \"v...</td>\n",
       "    </tr>\n",
       "  </tbody>\n",
       "</table>\n",
       "</div>"
      ],
      "text/plain": [
       "   movie_id           title release_date  popularity  vote_average  \\\n",
       "0         5      Four Rooms   1995-12-09      18.413           5.8   \n",
       "1         6  Judgment Night   1993-10-15       9.805           6.6   \n",
       "2        11       Star Wars   1977-05-25      88.660           8.2   \n",
       "3        12    Finding Nemo   2003-05-30      85.520           7.8   \n",
       "4        13    Forrest Gump   1994-06-23      66.808           8.5   \n",
       "\n",
       "   vote_count                                           overview  \\\n",
       "0        2380  It's Ted the Bellhop's first night on the job....   \n",
       "1         285  While racing to a boxing match, Frank, Mike, J...   \n",
       "2       18755  Princess Leia is captured and held hostage by ...   \n",
       "3       17741  Nemo, an adventurous young clownfish, is unexp...   \n",
       "4       24789  A man with a low IQ has accomplished great thi...   \n",
       "\n",
       "                        poster_path  \\\n",
       "0  /75aHn1NOYXh4M7L5shoeQ6NGykP.jpg   \n",
       "1  /3rvvpS9YPM5HB2f4HYiNiJVtdam.jpg   \n",
       "2  /6FfCtAuVAW8XJjZ7eWeLibRLWTw.jpg   \n",
       "3  /eHuGQ10FUzK1mdOY69wF5pGgEf5.jpg   \n",
       "4  /arw2vcBveWOVZr6pxd9XTd1TdQa.jpg   \n",
       "\n",
       "                                              genres  \\\n",
       "0  [{\"id\": 80, \"name\": \"Crime\"}, {\"id\": 35, \"name...   \n",
       "1  [{\"id\": 28, \"name\": \"Action\"}, {\"id\": 80, \"nam...   \n",
       "2  [{\"id\": 12, \"name\": \"Adventure\"}, {\"id\": 28, \"...   \n",
       "3  [{\"id\": 16, \"name\": \"Animation\"}, {\"id\": 10751...   \n",
       "4  [{\"id\": 35, \"name\": \"Comedy\"}, {\"id\": 18, \"nam...   \n",
       "\n",
       "                                                cast  \\\n",
       "0  [{\"adult\": false, \"gender\": 2, \"id\": 3129, \"kn...   \n",
       "1  [{\"adult\": false, \"gender\": 2, \"id\": 2880, \"kn...   \n",
       "2  [{\"adult\": false, \"gender\": 2, \"id\": 2, \"known...   \n",
       "3  [{\"adult\": false, \"gender\": 2, \"id\": 13, \"know...   \n",
       "4  [{\"adult\": false, \"gender\": 2, \"id\": 31, \"know...   \n",
       "\n",
       "                                                crew  \\\n",
       "0  [{\"adult\": false, \"gender\": 1, \"id\": 3110, \"kn...   \n",
       "1  [{\"adult\": false, \"gender\": 2, \"id\": 2042, \"kn...   \n",
       "2  [{\"adult\": false, \"gender\": 2, \"id\": 1, \"known...   \n",
       "3  [{\"adult\": false, \"gender\": 2, \"id\": 7, \"known...   \n",
       "4  [{\"adult\": false, \"gender\": 2, \"id\": 37, \"know...   \n",
       "\n",
       "                                            keywords  \n",
       "0  {\"id\": 5, \"keywords\": [{\"id\": 612, \"name\": \"ho...  \n",
       "1  {\"id\": 6, \"keywords\": [{\"id\": 520, \"name\": \"ch...  \n",
       "2  {\"id\": 11, \"keywords\": [{\"id\": 803, \"name\": \"a...  \n",
       "3  {\"id\": 12, \"keywords\": [{\"id\": 970, \"name\": \"p...  \n",
       "4  {\"id\": 13, \"keywords\": [{\"id\": 422, \"name\": \"v...  "
      ]
     },
     "execution_count": 164,
     "metadata": {},
     "output_type": "execute_result"
    }
   ],
   "source": [
    "df.head(5)"
   ]
  },
  {
   "cell_type": "code",
   "execution_count": 165,
   "metadata": {},
   "outputs": [
    {
     "name": "stdout",
     "output_type": "stream",
     "text": [
      "<class 'str'>\n",
      "[{\"id\": 80, \"name\": \"Crime\"}, {\"id\": 35, \"name\": \"Comedy\"}]\n"
     ]
    }
   ],
   "source": [
    "print(type(df.loc[0, 'genres']))\n",
    "print(df.loc[0, 'genres'])"
   ]
  },
  {
   "cell_type": "code",
   "execution_count": 166,
   "metadata": {},
   "outputs": [],
   "source": [
    "# list로 변경\n",
    "features = ['genres', 'cast', 'crew', 'keywords']\n",
    "for feature in features:\n",
    "    df[feature] = df[feature].apply(lambda x: json.loads(x))"
   ]
  },
  {
   "cell_type": "code",
   "execution_count": 167,
   "metadata": {},
   "outputs": [
    {
     "name": "stdout",
     "output_type": "stream",
     "text": [
      "<class 'list'>\n",
      "<class 'list'>\n",
      "<class 'list'>\n",
      "<class 'dict'>\n"
     ]
    }
   ],
   "source": [
    "print(type(df.loc[0, 'genres']))\n",
    "print(type(df.loc[0, 'cast']))\n",
    "print(type(df.loc[0, 'crew']))\n",
    "print(type(df.loc[0, 'keywords']))"
   ]
  },
  {
   "cell_type": "code",
   "execution_count": 168,
   "metadata": {},
   "outputs": [
    {
     "data": {
      "text/plain": [
       "[{'id': 612, 'name': 'hotel'},\n",
       " {'id': 613, 'name': \"new year's eve\"},\n",
       " {'id': 616, 'name': 'witch'},\n",
       " {'id': 622, 'name': 'bet'},\n",
       " {'id': 922, 'name': 'hotel room'},\n",
       " {'id': 2700, 'name': 'sperm'},\n",
       " {'id': 9706, 'name': 'anthology'},\n",
       " {'id': 12670, 'name': 'los angeles, california'},\n",
       " {'id': 160488, 'name': 'hoodlum'},\n",
       " {'id': 171366, 'name': 'multiple storylines'},\n",
       " {'id': 187056, 'name': 'woman director'}]"
      ]
     },
     "execution_count": 168,
     "metadata": {},
     "output_type": "execute_result"
    }
   ],
   "source": [
    "df.loc[0, 'keywords'].get('keywords')"
   ]
  },
  {
   "cell_type": "code",
   "execution_count": 169,
   "metadata": {},
   "outputs": [
    {
     "data": {
      "text/plain": [
       "0       [{'id': 612, 'name': 'hotel'}, {'id': 613, 'na...\n",
       "1       [{'id': 520, 'name': 'chicago, illinois'}, {'i...\n",
       "2       [{'id': 803, 'name': 'android'}, {'id': 4270, ...\n",
       "3       [{'id': 970, 'name': 'parent child relationshi...\n",
       "4       [{'id': 422, 'name': 'vietnam veteran'}, {'id'...\n",
       "                              ...                        \n",
       "9954                                                   []\n",
       "9955                                                   []\n",
       "9956                                                   []\n",
       "9957                                                   []\n",
       "9958                                                   []\n",
       "Name: keywords_data, Length: 9959, dtype: object"
      ]
     },
     "execution_count": 169,
     "metadata": {},
     "output_type": "execute_result"
    }
   ],
   "source": [
    "df['keywords_data'] = df['keywords'].apply(lambda x: x['keywords'])\n",
    "df['keywords_data']"
   ]
  },
  {
   "cell_type": "code",
   "execution_count": 170,
   "metadata": {},
   "outputs": [
    {
     "data": {
      "text/plain": [
       "list"
      ]
     },
     "execution_count": 170,
     "metadata": {},
     "output_type": "execute_result"
    }
   ],
   "source": [
    "type(df.loc[0, 'keywords_data'])"
   ]
  },
  {
   "cell_type": "code",
   "execution_count": 171,
   "metadata": {},
   "outputs": [],
   "source": [
    "df['release_date'].sort_values(ascending=False)\n",
    "df = df[df['release_date'] <= '2023-06-18']"
   ]
  },
  {
   "cell_type": "code",
   "execution_count": 172,
   "metadata": {},
   "outputs": [],
   "source": [
    "#   # literal_eval = str 타입 변경 -> 오류뜸\n",
    "#   features = ['genres','cast', 'crew', 'keywords']\n",
    "#   for feature in features:\n",
    "#       df[feature] = df[feature].apply(literal_eval)"
   ]
  },
  {
   "cell_type": "code",
   "execution_count": 173,
   "metadata": {},
   "outputs": [
    {
     "data": {
      "text/html": [
       "<div>\n",
       "<style scoped>\n",
       "    .dataframe tbody tr th:only-of-type {\n",
       "        vertical-align: middle;\n",
       "    }\n",
       "\n",
       "    .dataframe tbody tr th {\n",
       "        vertical-align: top;\n",
       "    }\n",
       "\n",
       "    .dataframe thead th {\n",
       "        text-align: right;\n",
       "    }\n",
       "</style>\n",
       "<table border=\"1\" class=\"dataframe\">\n",
       "  <thead>\n",
       "    <tr style=\"text-align: right;\">\n",
       "      <th></th>\n",
       "      <th>title</th>\n",
       "      <th>vote_count</th>\n",
       "      <th>vote_average</th>\n",
       "    </tr>\n",
       "  </thead>\n",
       "  <tbody>\n",
       "    <tr>\n",
       "      <th>8369</th>\n",
       "      <td>Orgasm Lecture 2</td>\n",
       "      <td>1</td>\n",
       "      <td>10.0</td>\n",
       "    </tr>\n",
       "    <tr>\n",
       "      <th>9846</th>\n",
       "      <td>Waitress</td>\n",
       "      <td>1</td>\n",
       "      <td>10.0</td>\n",
       "    </tr>\n",
       "    <tr>\n",
       "      <th>9077</th>\n",
       "      <td>Pretty Young Sister 4</td>\n",
       "      <td>1</td>\n",
       "      <td>10.0</td>\n",
       "    </tr>\n",
       "    <tr>\n",
       "      <th>9340</th>\n",
       "      <td>Pretty Red Dress</td>\n",
       "      <td>1</td>\n",
       "      <td>10.0</td>\n",
       "    </tr>\n",
       "    <tr>\n",
       "      <th>9709</th>\n",
       "      <td>I Love Lizzy</td>\n",
       "      <td>1</td>\n",
       "      <td>10.0</td>\n",
       "    </tr>\n",
       "    <tr>\n",
       "      <th>...</th>\n",
       "      <td>...</td>\n",
       "      <td>...</td>\n",
       "      <td>...</td>\n",
       "    </tr>\n",
       "    <tr>\n",
       "      <th>9737</th>\n",
       "      <td>BS High</td>\n",
       "      <td>0</td>\n",
       "      <td>0.0</td>\n",
       "    </tr>\n",
       "    <tr>\n",
       "      <th>8171</th>\n",
       "      <td>Gentleman Spa</td>\n",
       "      <td>0</td>\n",
       "      <td>0.0</td>\n",
       "    </tr>\n",
       "    <tr>\n",
       "      <th>9162</th>\n",
       "      <td>Schoolmistress 4</td>\n",
       "      <td>0</td>\n",
       "      <td>0.0</td>\n",
       "    </tr>\n",
       "    <tr>\n",
       "      <th>9750</th>\n",
       "      <td>Bios: Os Paralamas do Sucesso</td>\n",
       "      <td>0</td>\n",
       "      <td>0.0</td>\n",
       "    </tr>\n",
       "    <tr>\n",
       "      <th>9958</th>\n",
       "      <td>Sky : The Movie</td>\n",
       "      <td>0</td>\n",
       "      <td>0.0</td>\n",
       "    </tr>\n",
       "  </tbody>\n",
       "</table>\n",
       "<p>9889 rows × 3 columns</p>\n",
       "</div>"
      ],
      "text/plain": [
       "                              title  vote_count  vote_average\n",
       "8369               Orgasm Lecture 2           1          10.0\n",
       "9846                       Waitress           1          10.0\n",
       "9077          Pretty Young Sister 4           1          10.0\n",
       "9340               Pretty Red Dress           1          10.0\n",
       "9709                   I Love Lizzy           1          10.0\n",
       "...                             ...         ...           ...\n",
       "9737                        BS High           0           0.0\n",
       "8171                  Gentleman Spa           0           0.0\n",
       "9162               Schoolmistress 4           0           0.0\n",
       "9750  Bios: Os Paralamas do Sucesso           0           0.0\n",
       "9958                Sky : The Movie           0           0.0\n",
       "\n",
       "[9889 rows x 3 columns]"
      ]
     },
     "execution_count": 173,
     "metadata": {},
     "output_type": "execute_result"
    }
   ],
   "source": [
    "df[['title', 'vote_count', 'vote_average']].sort_values('vote_average', ascending=False)"
   ]
  },
  {
   "attachments": {},
   "cell_type": "markdown",
   "metadata": {},
   "source": [
    "가중 평점 W  </br>\n",
    "v : 해당 영화 총 투표수</br>\n",
    "m : 평점을 부여하기 위한 최소 투표수</br>\n",
    "R : 해당 영화 평균 평점</br>\n",
    "C : 모든 영화 평균 평점</br></br>\n",
    "W = (v/(v+m)*R) + (m/(m+v)*C)"
   ]
  },
  {
   "cell_type": "code",
   "execution_count": 174,
   "metadata": {},
   "outputs": [
    {
     "data": {
      "text/plain": [
       "6.386712508848215"
      ]
     },
     "execution_count": 174,
     "metadata": {},
     "output_type": "execute_result"
    }
   ],
   "source": [
    "# 전체 영화의 평균 평점\n",
    "C = df['vote_average'].mean()\n",
    "C"
   ]
  },
  {
   "cell_type": "code",
   "execution_count": 175,
   "metadata": {},
   "outputs": [
    {
     "data": {
      "text/plain": [
       "808.0"
      ]
     },
     "execution_count": 175,
     "metadata": {},
     "output_type": "execute_result"
    }
   ],
   "source": [
    "# 최소 평가 개수 : 60%\n",
    "m = df['vote_count'].quantile(0.6)\n",
    "m"
   ]
  },
  {
   "cell_type": "code",
   "execution_count": 176,
   "metadata": {},
   "outputs": [
    {
     "name": "stdout",
     "output_type": "stream",
     "text": [
      "(3957, 13)\n"
     ]
    },
    {
     "data": {
      "text/plain": [
       "5584      808\n",
       "3892      808\n",
       "1065      809\n",
       "6530      809\n",
       "8831      809\n",
       "        ...  \n",
       "3718    28713\n",
       "3534    29233\n",
       "90      29870\n",
       "5238    31605\n",
       "3836    33836\n",
       "Name: vote_count, Length: 3957, dtype: int64"
      ]
     },
     "execution_count": 176,
     "metadata": {},
     "output_type": "execute_result"
    }
   ],
   "source": [
    "qualified = df[df['vote_count'] >= m]\n",
    "print(qualified.shape)\n",
    "qualified['vote_count'].sort_values()"
   ]
  },
  {
   "cell_type": "code",
   "execution_count": 177,
   "metadata": {},
   "outputs": [],
   "source": [
    "# 가중 평점\n",
    "def weighted_rating(x, m=m, C=C):\n",
    "    v = x['vote_count']\n",
    "    R = x['vote_average']\n",
    "    return (v / (v+m)*R) + (m/(m+v)*C)"
   ]
  },
  {
   "cell_type": "code",
   "execution_count": 178,
   "metadata": {},
   "outputs": [
    {
     "name": "stderr",
     "output_type": "stream",
     "text": [
      "C:\\Users\\yunyo\\AppData\\Local\\Temp\\ipykernel_13244\\1579282308.py:1: SettingWithCopyWarning: \n",
      "A value is trying to be set on a copy of a slice from a DataFrame.\n",
      "Try using .loc[row_indexer,col_indexer] = value instead\n",
      "\n",
      "See the caveats in the documentation: https://pandas.pydata.org/pandas-docs/stable/user_guide/indexing.html#returning-a-view-versus-a-copy\n",
      "  qualified['score'] = qualified.apply(weighted_rating, axis=1)\n"
     ]
    }
   ],
   "source": [
    "qualified['score'] = qualified.apply(weighted_rating, axis=1)"
   ]
  },
  {
   "cell_type": "code",
   "execution_count": 179,
   "metadata": {},
   "outputs": [
    {
     "data": {
      "text/html": [
       "<div>\n",
       "<style scoped>\n",
       "    .dataframe tbody tr th:only-of-type {\n",
       "        vertical-align: middle;\n",
       "    }\n",
       "\n",
       "    .dataframe tbody tr th {\n",
       "        vertical-align: top;\n",
       "    }\n",
       "\n",
       "    .dataframe thead th {\n",
       "        text-align: right;\n",
       "    }\n",
       "</style>\n",
       "<table border=\"1\" class=\"dataframe\">\n",
       "  <thead>\n",
       "    <tr style=\"text-align: right;\">\n",
       "      <th></th>\n",
       "      <th>title</th>\n",
       "      <th>score</th>\n",
       "    </tr>\n",
       "  </thead>\n",
       "  <tbody>\n",
       "    <tr>\n",
       "      <th>171</th>\n",
       "      <td>The Shawshank Redemption</td>\n",
       "      <td>8.624504</td>\n",
       "    </tr>\n",
       "    <tr>\n",
       "      <th>149</th>\n",
       "      <td>The Godfather</td>\n",
       "      <td>8.601072</td>\n",
       "    </tr>\n",
       "    <tr>\n",
       "      <th>240</th>\n",
       "      <td>Schindler's List</td>\n",
       "      <td>8.480523</td>\n",
       "    </tr>\n",
       "    <tr>\n",
       "      <th>151</th>\n",
       "      <td>The Godfather Part II</td>\n",
       "      <td>8.447490</td>\n",
       "    </tr>\n",
       "    <tr>\n",
       "      <th>90</th>\n",
       "      <td>The Dark Knight</td>\n",
       "      <td>8.444340</td>\n",
       "    </tr>\n",
       "    <tr>\n",
       "      <th>...</th>\n",
       "      <td>...</td>\n",
       "      <td>...</td>\n",
       "    </tr>\n",
       "    <tr>\n",
       "      <th>179</th>\n",
       "      <td>Casablanca</td>\n",
       "      <td>7.936912</td>\n",
       "    </tr>\n",
       "    <tr>\n",
       "      <th>400</th>\n",
       "      <td>Harry Potter and the Prisoner of Azkaban</td>\n",
       "      <td>7.936142</td>\n",
       "    </tr>\n",
       "    <tr>\n",
       "      <th>7386</th>\n",
       "      <td>Klaus</td>\n",
       "      <td>7.934703</td>\n",
       "    </tr>\n",
       "    <tr>\n",
       "      <th>8170</th>\n",
       "      <td>Spider-Man: No Way Home</td>\n",
       "      <td>7.929044</td>\n",
       "    </tr>\n",
       "    <tr>\n",
       "      <th>1101</th>\n",
       "      <td>Pride &amp; Prejudice</td>\n",
       "      <td>7.926350</td>\n",
       "    </tr>\n",
       "  </tbody>\n",
       "</table>\n",
       "<p>100 rows × 2 columns</p>\n",
       "</div>"
      ],
      "text/plain": [
       "                                         title     score\n",
       "171                   The Shawshank Redemption  8.624504\n",
       "149                              The Godfather  8.601072\n",
       "240                           Schindler's List  8.480523\n",
       "151                      The Godfather Part II  8.447490\n",
       "90                             The Dark Knight  8.444340\n",
       "...                                        ...       ...\n",
       "179                                 Casablanca  7.936912\n",
       "400   Harry Potter and the Prisoner of Azkaban  7.936142\n",
       "7386                                     Klaus  7.934703\n",
       "8170                   Spider-Man: No Way Home  7.929044\n",
       "1101                         Pride & Prejudice  7.926350\n",
       "\n",
       "[100 rows x 2 columns]"
      ]
     },
     "execution_count": 179,
     "metadata": {},
     "output_type": "execute_result"
    }
   ],
   "source": [
    "qualified[['title', 'score']].sort_values('score', ascending = False).head(100)"
   ]
  },
  {
   "cell_type": "code",
   "execution_count": 180,
   "metadata": {},
   "outputs": [
    {
     "name": "stdout",
     "output_type": "stream",
     "text": [
      "<class 'pandas.core.frame.DataFrame'>\n",
      "Index: 3957 entries, 0 to 9607\n",
      "Data columns (total 14 columns):\n",
      " #   Column         Non-Null Count  Dtype  \n",
      "---  ------         --------------  -----  \n",
      " 0   movie_id       3957 non-null   int64  \n",
      " 1   title          3957 non-null   object \n",
      " 2   release_date   3957 non-null   object \n",
      " 3   popularity     3957 non-null   float64\n",
      " 4   vote_average   3957 non-null   float64\n",
      " 5   vote_count     3957 non-null   int64  \n",
      " 6   overview       3957 non-null   object \n",
      " 7   poster_path    3957 non-null   object \n",
      " 8   genres         3957 non-null   object \n",
      " 9   cast           3957 non-null   object \n",
      " 10  crew           3957 non-null   object \n",
      " 11  keywords       3957 non-null   object \n",
      " 12  keywords_data  3957 non-null   object \n",
      " 13  score          3957 non-null   float64\n",
      "dtypes: float64(3), int64(2), object(9)\n",
      "memory usage: 463.7+ KB\n"
     ]
    }
   ],
   "source": [
    "qualified.info()"
   ]
  },
  {
   "cell_type": "code",
   "execution_count": 181,
   "metadata": {},
   "outputs": [],
   "source": [
    "qualified.reset_index(drop=True, inplace=True)"
   ]
  },
  {
   "cell_type": "code",
   "execution_count": 182,
   "metadata": {},
   "outputs": [
    {
     "data": {
      "text/plain": [
       "0       It's Ted the Bellhop's first night on the job....\n",
       "1       Princess Leia is captured and held hostage by ...\n",
       "2       Nemo, an adventurous young clownfish, is unexp...\n",
       "3       A man with a low IQ has accomplished great thi...\n",
       "4       Lester Burnham, a depressed suburban father in...\n",
       "                              ...                        \n",
       "3952    Following the latest Ghostface killings, the f...\n",
       "3953    When a lively young family moves in next door,...\n",
       "3954    Discover the game-changing partnership between...\n",
       "3955    For best friends Becky and Hunter, life is all...\n",
       "3956    A new documentary that showcases the making of...\n",
       "Name: overview, Length: 3957, dtype: object"
      ]
     },
     "execution_count": 182,
     "metadata": {},
     "output_type": "execute_result"
    }
   ],
   "source": [
    "# 컨텐츠 기반 필터링\n",
    "qualified['overview']"
   ]
  },
  {
   "cell_type": "code",
   "execution_count": 183,
   "metadata": {},
   "outputs": [
    {
     "data": {
      "text/plain": [
       "0"
      ]
     },
     "execution_count": 183,
     "metadata": {},
     "output_type": "execute_result"
    }
   ],
   "source": [
    "qualified['overview'].isnull().sum()"
   ]
  },
  {
   "cell_type": "code",
   "execution_count": 184,
   "metadata": {},
   "outputs": [
    {
     "name": "stdout",
     "output_type": "stream",
     "text": [
      "(3957, 17037)\n"
     ]
    }
   ],
   "source": [
    "# 백터화 - BOW\n",
    "tfidf = TfidfVectorizer(stop_words='english')\n",
    "tfidf_matrix = tfidf.fit_transform(qualified['overview'])\n",
    "\n",
    "print(tfidf_matrix.shape)"
   ]
  },
  {
   "cell_type": "code",
   "execution_count": 185,
   "metadata": {},
   "outputs": [
    {
     "data": {
      "text/plain": [
       "<3957x17037 sparse matrix of type '<class 'numpy.float64'>'\n",
       "\twith 94193 stored elements in Compressed Sparse Row format>"
      ]
     },
     "execution_count": 185,
     "metadata": {},
     "output_type": "execute_result"
    }
   ],
   "source": [
    "tfidf_matrix"
   ]
  },
  {
   "cell_type": "code",
   "execution_count": 186,
   "metadata": {},
   "outputs": [
    {
     "data": {
      "text/plain": [
       "array([[1.        , 0.        , 0.        , ..., 0.        , 0.        ,\n",
       "        0.        ],\n",
       "       [0.        , 1.        , 0.        , ..., 0.        , 0.        ,\n",
       "        0.        ],\n",
       "       [0.        , 0.        , 1.        , ..., 0.        , 0.00914395,\n",
       "        0.        ],\n",
       "       ...,\n",
       "       [0.        , 0.        , 0.        , ..., 1.        , 0.        ,\n",
       "        0.        ],\n",
       "       [0.        , 0.        , 0.00914395, ..., 0.        , 1.        ,\n",
       "        0.        ],\n",
       "       [0.        , 0.        , 0.        , ..., 0.        , 0.        ,\n",
       "        1.        ]])"
      ]
     },
     "execution_count": 186,
     "metadata": {},
     "output_type": "execute_result"
    }
   ],
   "source": [
    "# 유사도 판단 - 코사인 유사도\n",
    "cosine_sim = cosine_similarity(tfidf_matrix, tfidf_matrix)\n",
    "cosine_sim"
   ]
  },
  {
   "cell_type": "code",
   "execution_count": 187,
   "metadata": {},
   "outputs": [
    {
     "data": {
      "text/plain": [
       "title\n",
       "Four Rooms                            0\n",
       "Star Wars                             1\n",
       "Finding Nemo                          2\n",
       "Forrest Gump                          3\n",
       "American Beauty                       4\n",
       "                                   ... \n",
       "Scream VI                          3952\n",
       "A Man Called Otto                  3953\n",
       "Air                                3954\n",
       "Fall                               3955\n",
       "Obi-Wan Kenobi: A Jedi's Return    3956\n",
       "Length: 3957, dtype: int64"
      ]
     },
     "execution_count": 187,
     "metadata": {},
     "output_type": "execute_result"
    }
   ],
   "source": [
    "indices = pd.Series(qualified.index, index=qualified['title']).drop_duplicates()\n",
    "indices"
   ]
  },
  {
   "cell_type": "code",
   "execution_count": 188,
   "metadata": {},
   "outputs": [
    {
     "data": {
      "text/html": [
       "<div>\n",
       "<style scoped>\n",
       "    .dataframe tbody tr th:only-of-type {\n",
       "        vertical-align: middle;\n",
       "    }\n",
       "\n",
       "    .dataframe tbody tr th {\n",
       "        vertical-align: top;\n",
       "    }\n",
       "\n",
       "    .dataframe thead th {\n",
       "        text-align: right;\n",
       "    }\n",
       "</style>\n",
       "<table border=\"1\" class=\"dataframe\">\n",
       "  <thead>\n",
       "    <tr style=\"text-align: right;\">\n",
       "      <th></th>\n",
       "      <th>movie_id</th>\n",
       "      <th>title</th>\n",
       "      <th>release_date</th>\n",
       "      <th>popularity</th>\n",
       "      <th>vote_average</th>\n",
       "      <th>vote_count</th>\n",
       "      <th>overview</th>\n",
       "      <th>poster_path</th>\n",
       "      <th>genres</th>\n",
       "      <th>cast</th>\n",
       "      <th>crew</th>\n",
       "      <th>keywords</th>\n",
       "      <th>keywords_data</th>\n",
       "      <th>score</th>\n",
       "    </tr>\n",
       "  </thead>\n",
       "  <tbody>\n",
       "    <tr>\n",
       "      <th>0</th>\n",
       "      <td>5</td>\n",
       "      <td>Four Rooms</td>\n",
       "      <td>1995-12-09</td>\n",
       "      <td>18.413</td>\n",
       "      <td>5.8</td>\n",
       "      <td>2380</td>\n",
       "      <td>It's Ted the Bellhop's first night on the job....</td>\n",
       "      <td>/75aHn1NOYXh4M7L5shoeQ6NGykP.jpg</td>\n",
       "      <td>[{'id': 80, 'name': 'Crime'}, {'id': 35, 'name...</td>\n",
       "      <td>[{'adult': False, 'gender': 2, 'id': 3129, 'kn...</td>\n",
       "      <td>[{'adult': False, 'gender': 1, 'id': 3110, 'kn...</td>\n",
       "      <td>{'id': 5, 'keywords': [{'id': 612, 'name': 'ho...</td>\n",
       "      <td>[{'id': 612, 'name': 'hotel'}, {'id': 613, 'na...</td>\n",
       "      <td>5.948703</td>\n",
       "    </tr>\n",
       "  </tbody>\n",
       "</table>\n",
       "</div>"
      ],
      "text/plain": [
       "   movie_id       title release_date  popularity  vote_average  vote_count  \\\n",
       "0         5  Four Rooms   1995-12-09      18.413           5.8        2380   \n",
       "\n",
       "                                            overview  \\\n",
       "0  It's Ted the Bellhop's first night on the job....   \n",
       "\n",
       "                        poster_path  \\\n",
       "0  /75aHn1NOYXh4M7L5shoeQ6NGykP.jpg   \n",
       "\n",
       "                                              genres  \\\n",
       "0  [{'id': 80, 'name': 'Crime'}, {'id': 35, 'name...   \n",
       "\n",
       "                                                cast  \\\n",
       "0  [{'adult': False, 'gender': 2, 'id': 3129, 'kn...   \n",
       "\n",
       "                                                crew  \\\n",
       "0  [{'adult': False, 'gender': 1, 'id': 3110, 'kn...   \n",
       "\n",
       "                                            keywords  \\\n",
       "0  {'id': 5, 'keywords': [{'id': 612, 'name': 'ho...   \n",
       "\n",
       "                                       keywords_data     score  \n",
       "0  [{'id': 612, 'name': 'hotel'}, {'id': 613, 'na...  5.948703  "
      ]
     },
     "execution_count": 188,
     "metadata": {},
     "output_type": "execute_result"
    }
   ],
   "source": [
    "qualified.iloc[[0]]"
   ]
  },
  {
   "cell_type": "code",
   "execution_count": 189,
   "metadata": {},
   "outputs": [],
   "source": [
    "# 영화 제목을 입력 받으면 유사도가 높은 상위 10개 영화 목록 반환하는 함수\n",
    "\n",
    "def get_recommendations(title, cosine_sim=cosine_sim):\n",
    "    # 영화 제목에 해당하는 인덱스 번호\n",
    "    idx = indices[title]    \n",
    "    # 코사인 유사도 매트릭스에서 idx에 해당하는 데이터를 (idx, 유사도) 형식으로 반환\n",
    "    sim_scores = list(enumerate(cosine_sim[idx]))\n",
    "    # 코사인 유사도 기준 내림차순 정렬\n",
    "    sim_scores = sorted(sim_scores, key=lambda x: x[1], reverse=True)\n",
    "    sim_scores = sim_scores[1:11] #자기자신 제외 10개 출력\n",
    "    # 추천 영화 목록 10개 인덱스 정보 추출\n",
    "    movie_indices = [i[0] for i in sim_scores]\n",
    "    # 인덱스 정보로 영화 제목 출력\n",
    "    return qualified['title'].iloc[movie_indices]"
   ]
  },
  {
   "cell_type": "code",
   "execution_count": 190,
   "metadata": {},
   "outputs": [
    {
     "data": {
      "text/plain": [
       "2753                               Ted 2\n",
       "3354                        Hotel Mumbai\n",
       "3880                Friends: The Reunion\n",
       "620     Bill & Ted's Excellent Adventure\n",
       "257         There's Something About Mary\n",
       "30                        Before Sunrise\n",
       "118                         Hotel Rwanda\n",
       "1581                         After Hours\n",
       "811                                 1408\n",
       "2659                Hotel Transylvania 2\n",
       "Name: title, dtype: object"
      ]
     },
     "execution_count": 190,
     "metadata": {},
     "output_type": "execute_result"
    }
   ],
   "source": [
    "get_recommendations('Four Rooms')"
   ]
  },
  {
   "cell_type": "code",
   "execution_count": 191,
   "metadata": {},
   "outputs": [
    {
     "data": {
      "text/plain": [
       "0                                            Four Rooms\n",
       "1                                             Star Wars\n",
       "2                                          Finding Nemo\n",
       "3                                          Forrest Gump\n",
       "4                                       American Beauty\n",
       "5                                          Citizen Kane\n",
       "6                                    Dancer in the Dark\n",
       "7                                     The Fifth Element\n",
       "8                                            Metropolis\n",
       "9     Pirates of the Caribbean: The Curse of the Bla...\n",
       "10                                    Kill Bill: Vol. 1\n",
       "11                                              Jarhead\n",
       "12                                       Apocalypse Now\n",
       "13                                           Unforgiven\n",
       "14                                   The Simpsons Movie\n",
       "15                Eternal Sunshine of the Spotless Mind\n",
       "16                                        Amores Perros\n",
       "17           Pirates of the Caribbean: Dead Man's Chest\n",
       "18                                A History of Violence\n",
       "19                                2001: A Space Odyssey\n",
       "Name: title, dtype: object"
      ]
     },
     "execution_count": 191,
     "metadata": {},
     "output_type": "execute_result"
    }
   ],
   "source": [
    "qualified['title'].head(20)"
   ]
  },
  {
   "cell_type": "code",
   "execution_count": 192,
   "metadata": {},
   "outputs": [
    {
     "data": {
      "text/plain": [
       "2586                                         Finding Dory\n",
       "2068                                           Mr. Nobody\n",
       "1527                                           Shark Tale\n",
       "573     Teenage Mutant Ninja Turtles II: The Secret of...\n",
       "2619                                             Paperman\n",
       "2874                                          Knock Knock\n",
       "2218                          Don't Be Afraid of the Dark\n",
       "2635                                           Cinderella\n",
       "2556                                        Wolf Children\n",
       "1464                                             Rounders\n",
       "Name: title, dtype: object"
      ]
     },
     "execution_count": 192,
     "metadata": {},
     "output_type": "execute_result"
    }
   ],
   "source": [
    "get_recommendations('Finding Nemo')"
   ]
  },
  {
   "cell_type": "code",
   "execution_count": 193,
   "metadata": {},
   "outputs": [],
   "source": [
    "# 감독 정보 추출\n",
    "def get_director(x):\n",
    "    for i in x:\n",
    "        if i['job'] == 'Director':\n",
    "            return i['name']\n",
    "    return np.nan"
   ]
  },
  {
   "cell_type": "code",
   "execution_count": 194,
   "metadata": {},
   "outputs": [
    {
     "name": "stderr",
     "output_type": "stream",
     "text": [
      "C:\\Users\\yunyo\\AppData\\Local\\Temp\\ipykernel_13244\\685247002.py:1: SettingWithCopyWarning: \n",
      "A value is trying to be set on a copy of a slice from a DataFrame.\n",
      "Try using .loc[row_indexer,col_indexer] = value instead\n",
      "\n",
      "See the caveats in the documentation: https://pandas.pydata.org/pandas-docs/stable/user_guide/indexing.html#returning-a-view-versus-a-copy\n",
      "  qualified['director'] = qualified['crew'].apply(get_director)\n"
     ]
    },
    {
     "data": {
      "text/plain": [
       "0              Allison Anders\n",
       "1                George Lucas\n",
       "2              Andrew Stanton\n",
       "3             Robert Zemeckis\n",
       "4                  Sam Mendes\n",
       "                ...          \n",
       "3952    Matt Bettinelli-Olpin\n",
       "3953             Marc Forster\n",
       "3954              Ben Affleck\n",
       "3955               Scott Mann\n",
       "3956               David Gelb\n",
       "Name: director, Length: 3957, dtype: object"
      ]
     },
     "execution_count": 194,
     "metadata": {},
     "output_type": "execute_result"
    }
   ],
   "source": [
    "qualified['director'] = qualified['crew'].apply(get_director)\n",
    "qualified['director']"
   ]
  },
  {
   "cell_type": "code",
   "execution_count": 196,
   "metadata": {},
   "outputs": [
    {
     "data": {
      "text/plain": [
       "[{'adult': False,\n",
       "  'gender': 2,\n",
       "  'id': 3129,\n",
       "  'known_for_department': 'Acting',\n",
       "  'name': 'Tim Roth',\n",
       "  'original_name': 'Tim Roth',\n",
       "  'popularity': 22.663,\n",
       "  'profile_path': '/qSizF2i9gz6c6DbAC5RoIq8sVqX.jpg',\n",
       "  'cast_id': 42,\n",
       "  'character': 'Ted the Bellhop',\n",
       "  'credit_id': '52fe420dc3a36847f80001b7',\n",
       "  'order': 0},\n",
       " {'adult': False,\n",
       "  'gender': 1,\n",
       "  'id': 3130,\n",
       "  'known_for_department': 'Acting',\n",
       "  'name': 'Jennifer Beals',\n",
       "  'original_name': 'Jennifer Beals',\n",
       "  'popularity': 17.792,\n",
       "  'profile_path': '/uJYKQC9GfRU3LHugCVDbAP1DrFH.jpg',\n",
       "  'cast_id': 29,\n",
       "  'character': 'Angela',\n",
       "  'credit_id': '52fe420dc3a36847f8000183',\n",
       "  'order': 1},\n",
       " {'adult': False,\n",
       "  'gender': 2,\n",
       "  'id': 3131,\n",
       "  'known_for_department': 'Acting',\n",
       "  'name': 'Antonio Banderas',\n",
       "  'original_name': 'Antonio Banderas',\n",
       "  'popularity': 26.423,\n",
       "  'profile_path': '/n8YlGookYzgD3cmpMP45BYRNIoh.jpg',\n",
       "  'cast_id': 31,\n",
       "  'character': 'Man',\n",
       "  'credit_id': '52fe420dc3a36847f800018b',\n",
       "  'order': 2},\n",
       " {'adult': False,\n",
       "  'gender': 1,\n",
       "  'id': 3124,\n",
       "  'known_for_department': 'Acting',\n",
       "  'name': 'Valeria Golino',\n",
       "  'original_name': 'Valeria Golino',\n",
       "  'popularity': 25.111,\n",
       "  'profile_path': '/bLw0lNPEhICtbTLtnTswamefN7C.jpg',\n",
       "  'cast_id': 24,\n",
       "  'character': 'Athena',\n",
       "  'credit_id': '52fe420dc3a36847f800016f',\n",
       "  'order': 3},\n",
       " {'adult': False,\n",
       "  'gender': 2,\n",
       "  'id': 2555,\n",
       "  'known_for_department': 'Acting',\n",
       "  'name': 'David Proval',\n",
       "  'original_name': 'David Proval',\n",
       "  'popularity': 6.657,\n",
       "  'profile_path': '/ku3LWQXiJ80nWgs21fKvTMaR6Ui.jpg',\n",
       "  'cast_id': 30,\n",
       "  'character': 'Siegfried',\n",
       "  'credit_id': '52fe420dc3a36847f8000187',\n",
       "  'order': 4},\n",
       " {'adult': False,\n",
       "  'gender': 1,\n",
       "  'id': 3122,\n",
       "  'known_for_department': 'Acting',\n",
       "  'name': 'Sammi Davis',\n",
       "  'original_name': 'Sammi Davis',\n",
       "  'popularity': 2.75,\n",
       "  'profile_path': '/v94Yqh0sA4a3NvGAoQ158ejNkb1.jpg',\n",
       "  'cast_id': 22,\n",
       "  'character': 'Jezebel',\n",
       "  'credit_id': '52fe420dc3a36847f8000167',\n",
       "  'order': 5},\n",
       " {'adult': False,\n",
       "  'gender': 1,\n",
       "  'id': 3123,\n",
       "  'known_for_department': 'Acting',\n",
       "  'name': 'Amanda de Cadenet',\n",
       "  'original_name': 'Amanda de Cadenet',\n",
       "  'popularity': 3.673,\n",
       "  'profile_path': '/pLlI568voL7dkFbUDIq4hFI0o0v.jpg',\n",
       "  'cast_id': 23,\n",
       "  'character': 'Diana',\n",
       "  'credit_id': '52fe420dc3a36847f800016b',\n",
       "  'order': 6},\n",
       " {'adult': False,\n",
       "  'gender': 1,\n",
       "  'id': 3125,\n",
       "  'known_for_department': 'Acting',\n",
       "  'name': 'Madonna',\n",
       "  'original_name': 'Madonna',\n",
       "  'popularity': 12.547,\n",
       "  'profile_path': '/pI6g1iVlUy7cUAZ6AspVXWq4kli.jpg',\n",
       "  'cast_id': 25,\n",
       "  'character': 'Elspeth',\n",
       "  'credit_id': '52fe420dc3a36847f8000173',\n",
       "  'order': 7},\n",
       " {'adult': False,\n",
       "  'gender': 1,\n",
       "  'id': 3126,\n",
       "  'known_for_department': 'Acting',\n",
       "  'name': 'Ione Skye',\n",
       "  'original_name': 'Ione Skye',\n",
       "  'popularity': 11.294,\n",
       "  'profile_path': '/7gkOvSaUcUPgBMNQ1NxecMzuVc2.jpg',\n",
       "  'cast_id': 26,\n",
       "  'character': 'Eva',\n",
       "  'credit_id': '52fe420dc3a36847f8000177',\n",
       "  'order': 8},\n",
       " {'adult': False,\n",
       "  'gender': 1,\n",
       "  'id': 3127,\n",
       "  'known_for_department': 'Acting',\n",
       "  'name': 'Lili Taylor',\n",
       "  'original_name': 'Lili Taylor',\n",
       "  'popularity': 19.747,\n",
       "  'profile_path': '/if8rbaj1TXlzg0Oq4g0bpU3b5rh.jpg',\n",
       "  'cast_id': 27,\n",
       "  'character': 'Raven',\n",
       "  'credit_id': '52fe420dc3a36847f800017b',\n",
       "  'order': 9},\n",
       " {'adult': False,\n",
       "  'gender': 1,\n",
       "  'id': 3128,\n",
       "  'known_for_department': 'Acting',\n",
       "  'name': 'Alicia Witt',\n",
       "  'original_name': 'Alicia Witt',\n",
       "  'popularity': 24.35,\n",
       "  'profile_path': '/ePUEcHPTvY7ZuHTy0gqBnhqg0b5.jpg',\n",
       "  'cast_id': 28,\n",
       "  'character': 'Kiva',\n",
       "  'credit_id': '52fe420dc3a36847f800017f',\n",
       "  'order': 10},\n",
       " {'adult': False,\n",
       "  'gender': 1,\n",
       "  'id': 3134,\n",
       "  'known_for_department': 'Acting',\n",
       "  'name': 'Tamlyn Tomita',\n",
       "  'original_name': 'Tamlyn Tomita',\n",
       "  'popularity': 10.625,\n",
       "  'profile_path': '/rmlZGE8f18Fxpgd9AlOko8cK074.jpg',\n",
       "  'cast_id': 34,\n",
       "  'character': 'Wife',\n",
       "  'credit_id': '52fe420dc3a36847f8000197',\n",
       "  'order': 11},\n",
       " {'adult': False,\n",
       "  'gender': 1,\n",
       "  'id': 3132,\n",
       "  'known_for_department': 'Acting',\n",
       "  'name': 'Lana McKissack',\n",
       "  'original_name': 'Lana McKissack',\n",
       "  'popularity': 3.097,\n",
       "  'profile_path': '/foE5SoQgMPrHqY0ER5ZyC53OQDf.jpg',\n",
       "  'cast_id': 32,\n",
       "  'character': 'Sarah',\n",
       "  'credit_id': '52fe420dc3a36847f800018f',\n",
       "  'order': 12},\n",
       " {'adult': False,\n",
       "  'gender': 2,\n",
       "  'id': 3135,\n",
       "  'known_for_department': 'Acting',\n",
       "  'name': 'Danny Verduzco',\n",
       "  'original_name': 'Danny Verduzco',\n",
       "  'popularity': 0.652,\n",
       "  'profile_path': None,\n",
       "  'cast_id': 35,\n",
       "  'character': 'Juancho',\n",
       "  'credit_id': '52fe420dc3a36847f800019b',\n",
       "  'order': 13},\n",
       " {'adult': False,\n",
       "  'gender': 1,\n",
       "  'id': 3133,\n",
       "  'known_for_department': 'Acting',\n",
       "  'name': 'Patricia Vonne',\n",
       "  'original_name': 'Patricia Vonne',\n",
       "  'popularity': 2.774,\n",
       "  'profile_path': None,\n",
       "  'cast_id': 33,\n",
       "  'character': 'Corpse',\n",
       "  'credit_id': '52fe420dc3a36847f8000193',\n",
       "  'order': 14},\n",
       " {'adult': False,\n",
       "  'gender': 1,\n",
       "  'id': 3136,\n",
       "  'known_for_department': 'Acting',\n",
       "  'name': 'Salma Hayek Pinault',\n",
       "  'original_name': 'Salma Hayek Pinault',\n",
       "  'popularity': 85.939,\n",
       "  'profile_path': '/a1VhN6kvw4tuRrIvGnvAjHAWnD5.jpg',\n",
       "  'cast_id': 36,\n",
       "  'character': 'TV Dancing Girl',\n",
       "  'credit_id': '52fe420dc3a36847f800019f',\n",
       "  'order': 15},\n",
       " {'adult': False,\n",
       "  'gender': 2,\n",
       "  'id': 138,\n",
       "  'known_for_department': 'Directing',\n",
       "  'name': 'Quentin Tarantino',\n",
       "  'original_name': 'Quentin Tarantino',\n",
       "  'popularity': 18.992,\n",
       "  'profile_path': '/1gjcpAa99FAOWGnrUvHEXXsRs7o.jpg',\n",
       "  'cast_id': 38,\n",
       "  'character': 'Chester Rush',\n",
       "  'credit_id': '52fe420dc3a36847f80001a7',\n",
       "  'order': 16},\n",
       " {'adult': False,\n",
       "  'gender': 2,\n",
       "  'id': 3137,\n",
       "  'known_for_department': 'Acting',\n",
       "  'name': 'Paul Calderon',\n",
       "  'original_name': 'Paul Calderon',\n",
       "  'popularity': 5.1,\n",
       "  'profile_path': '/xIORhcIDmFMlaS3ZS3em1QiTkt5.jpg',\n",
       "  'cast_id': 37,\n",
       "  'character': 'Norman',\n",
       "  'credit_id': '52fe420dc3a36847f80001a3',\n",
       "  'order': 17},\n",
       " {'adult': False,\n",
       "  'gender': 2,\n",
       "  'id': 62,\n",
       "  'known_for_department': 'Acting',\n",
       "  'name': 'Bruce Willis',\n",
       "  'original_name': 'Bruce Willis',\n",
       "  'popularity': 26.166,\n",
       "  'profile_path': '/caX3KtMU42EP3VLRFFBwqIIrch5.jpg',\n",
       "  'cast_id': 43,\n",
       "  'character': 'Leo (uncredited)',\n",
       "  'credit_id': '52fe420dc3a36847f80001bb',\n",
       "  'order': 18},\n",
       " {'adult': False,\n",
       "  'gender': 1,\n",
       "  'id': 3141,\n",
       "  'known_for_department': 'Acting',\n",
       "  'name': 'Marisa Tomei',\n",
       "  'original_name': 'Marisa Tomei',\n",
       "  'popularity': 31.127,\n",
       "  'profile_path': '/5w6qM8FWsl5SutKSpx6Va64eCTE.jpg',\n",
       "  'cast_id': 41,\n",
       "  'character': 'Margaret',\n",
       "  'credit_id': '52fe420dc3a36847f80001b3',\n",
       "  'order': 19},\n",
       " {'adult': False,\n",
       "  'gender': 1,\n",
       "  'id': 3138,\n",
       "  'known_for_department': 'Acting',\n",
       "  'name': 'Kathy Griffin',\n",
       "  'original_name': 'Kathy Griffin',\n",
       "  'popularity': 4.017,\n",
       "  'profile_path': '/psg895Ye46vGenRdX0EXvGOm92p.jpg',\n",
       "  'cast_id': 152,\n",
       "  'character': 'Betty',\n",
       "  'credit_id': '6334a087764841007d2e4476',\n",
       "  'order': 20},\n",
       " {'adult': False,\n",
       "  'gender': 2,\n",
       "  'id': 2545,\n",
       "  'known_for_department': 'Production',\n",
       "  'name': 'Lawrence Bender',\n",
       "  'original_name': 'Lawrence Bender',\n",
       "  'popularity': 2.271,\n",
       "  'profile_path': '/mZRwkIvUj8USnS7Jfwd6VdHkY2x.jpg',\n",
       "  'cast_id': 39,\n",
       "  'character': 'Long Hair Yuppy Scum',\n",
       "  'credit_id': '52fe420dc3a36847f80001ab',\n",
       "  'order': 21},\n",
       " {'adult': False,\n",
       "  'gender': 1,\n",
       "  'id': 37336,\n",
       "  'known_for_department': 'Acting',\n",
       "  'name': 'Kimberly Blair',\n",
       "  'original_name': 'Kimberly Blair',\n",
       "  'popularity': 2.474,\n",
       "  'profile_path': '/hPajx1WWe7MqU5nYlDEBExgbGz0.jpg',\n",
       "  'cast_id': 44,\n",
       "  'character': 'Hooker',\n",
       "  'credit_id': '52fe420dc3a36847f80001bf',\n",
       "  'order': 22},\n",
       " {'adult': False,\n",
       "  'gender': 2,\n",
       "  'id': 3140,\n",
       "  'known_for_department': 'Acting',\n",
       "  'name': 'Marc Lawrence',\n",
       "  'original_name': 'Marc Lawrence',\n",
       "  'popularity': 7.566,\n",
       "  'profile_path': '/vE1v5FyJvLXFyDQeeOlcchlgQuV.jpg',\n",
       "  'cast_id': 45,\n",
       "  'character': 'Sam the Bellhop',\n",
       "  'credit_id': '52fe420dc3a36847f80001c3',\n",
       "  'order': 23},\n",
       " {'adult': False,\n",
       "  'gender': 0,\n",
       "  'id': 1207062,\n",
       "  'known_for_department': 'Writing',\n",
       "  'name': 'Paul Skemp',\n",
       "  'original_name': 'Paul Skemp',\n",
       "  'popularity': 0.6,\n",
       "  'profile_path': None,\n",
       "  'cast_id': 151,\n",
       "  'character': 'Real Theodore',\n",
       "  'credit_id': '612eb10cb84cdd002cba7bde',\n",
       "  'order': 24}]"
      ]
     },
     "execution_count": 196,
     "metadata": {},
     "output_type": "execute_result"
    }
   ],
   "source": [
    "# 출연 배우\n",
    "qualified.loc[0,'cast']"
   ]
  },
  {
   "cell_type": "code",
   "execution_count": 199,
   "metadata": {},
   "outputs": [
    {
     "data": {
      "text/plain": [
       "[{'id': 612, 'name': 'hotel'},\n",
       " {'id': 613, 'name': \"new year's eve\"},\n",
       " {'id': 616, 'name': 'witch'},\n",
       " {'id': 622, 'name': 'bet'},\n",
       " {'id': 922, 'name': 'hotel room'},\n",
       " {'id': 2700, 'name': 'sperm'},\n",
       " {'id': 9706, 'name': 'anthology'},\n",
       " {'id': 12670, 'name': 'los angeles, california'},\n",
       " {'id': 160488, 'name': 'hoodlum'},\n",
       " {'id': 171366, 'name': 'multiple storylines'},\n",
       " {'id': 187056, 'name': 'woman director'}]"
      ]
     },
     "execution_count": 199,
     "metadata": {},
     "output_type": "execute_result"
    }
   ],
   "source": [
    "# 키워드\n",
    "qualified.loc[0,'keywords_data']"
   ]
  },
  {
   "cell_type": "code",
   "execution_count": 198,
   "metadata": {},
   "outputs": [
    {
     "data": {
      "text/plain": [
       "[{'id': 80, 'name': 'Crime'}, {'id': 35, 'name': 'Comedy'}]"
      ]
     },
     "execution_count": 198,
     "metadata": {},
     "output_type": "execute_result"
    }
   ],
   "source": [
    "# 장르\n",
    "qualified.loc[0, 'genres']"
   ]
  },
  {
   "cell_type": "code",
   "execution_count": 200,
   "metadata": {},
   "outputs": [],
   "source": [
    "# 처음 5개 데이터 중 name에 해당하는 value만 추출\n",
    "def get_list(x):\n",
    "    if isinstance(x, list):\n",
    "        names = [i['name'] for i in x]\n",
    "        if len(names) > 5:\n",
    "            names = names[:5]\n",
    "        return names\n",
    "    return []"
   ]
  },
  {
   "cell_type": "code",
   "execution_count": 201,
   "metadata": {},
   "outputs": [
    {
     "name": "stderr",
     "output_type": "stream",
     "text": [
      "C:\\Users\\yunyo\\AppData\\Local\\Temp\\ipykernel_13244\\3559133786.py:3: SettingWithCopyWarning: \n",
      "A value is trying to be set on a copy of a slice from a DataFrame.\n",
      "Try using .loc[row_indexer,col_indexer] = value instead\n",
      "\n",
      "See the caveats in the documentation: https://pandas.pydata.org/pandas-docs/stable/user_guide/indexing.html#returning-a-view-versus-a-copy\n",
      "  qualified[feature] = qualified[feature].apply(get_list)\n",
      "C:\\Users\\yunyo\\AppData\\Local\\Temp\\ipykernel_13244\\3559133786.py:3: SettingWithCopyWarning: \n",
      "A value is trying to be set on a copy of a slice from a DataFrame.\n",
      "Try using .loc[row_indexer,col_indexer] = value instead\n",
      "\n",
      "See the caveats in the documentation: https://pandas.pydata.org/pandas-docs/stable/user_guide/indexing.html#returning-a-view-versus-a-copy\n",
      "  qualified[feature] = qualified[feature].apply(get_list)\n",
      "C:\\Users\\yunyo\\AppData\\Local\\Temp\\ipykernel_13244\\3559133786.py:3: SettingWithCopyWarning: \n",
      "A value is trying to be set on a copy of a slice from a DataFrame.\n",
      "Try using .loc[row_indexer,col_indexer] = value instead\n",
      "\n",
      "See the caveats in the documentation: https://pandas.pydata.org/pandas-docs/stable/user_guide/indexing.html#returning-a-view-versus-a-copy\n",
      "  qualified[feature] = qualified[feature].apply(get_list)\n"
     ]
    }
   ],
   "source": [
    "features = ['genres', 'cast', 'keywords_data']\n",
    "for feature in features:\n",
    "    qualified[feature] = qualified[feature].apply(get_list)"
   ]
  },
  {
   "cell_type": "code",
   "execution_count": 202,
   "metadata": {},
   "outputs": [
    {
     "data": {
      "text/html": [
       "<div>\n",
       "<style scoped>\n",
       "    .dataframe tbody tr th:only-of-type {\n",
       "        vertical-align: middle;\n",
       "    }\n",
       "\n",
       "    .dataframe tbody tr th {\n",
       "        vertical-align: top;\n",
       "    }\n",
       "\n",
       "    .dataframe thead th {\n",
       "        text-align: right;\n",
       "    }\n",
       "</style>\n",
       "<table border=\"1\" class=\"dataframe\">\n",
       "  <thead>\n",
       "    <tr style=\"text-align: right;\">\n",
       "      <th></th>\n",
       "      <th>title</th>\n",
       "      <th>cast</th>\n",
       "      <th>director</th>\n",
       "      <th>keywords_data</th>\n",
       "      <th>genres</th>\n",
       "    </tr>\n",
       "  </thead>\n",
       "  <tbody>\n",
       "    <tr>\n",
       "      <th>0</th>\n",
       "      <td>Four Rooms</td>\n",
       "      <td>[Tim Roth, Jennifer Beals, Antonio Banderas, V...</td>\n",
       "      <td>Allison Anders</td>\n",
       "      <td>[hotel, new year's eve, witch, bet, hotel room]</td>\n",
       "      <td>[Crime, Comedy]</td>\n",
       "    </tr>\n",
       "    <tr>\n",
       "      <th>1</th>\n",
       "      <td>Star Wars</td>\n",
       "      <td>[Mark Hamill, Harrison Ford, Carrie Fisher, Pe...</td>\n",
       "      <td>George Lucas</td>\n",
       "      <td>[android, galaxy, hermit, smuggling (contraban...</td>\n",
       "      <td>[Adventure, Action, Science Fiction]</td>\n",
       "    </tr>\n",
       "    <tr>\n",
       "      <th>2</th>\n",
       "      <td>Finding Nemo</td>\n",
       "      <td>[Albert Brooks, Ellen DeGeneres, Alexander Gou...</td>\n",
       "      <td>Andrew Stanton</td>\n",
       "      <td>[parent child relationship, sydney, australia,...</td>\n",
       "      <td>[Animation, Family]</td>\n",
       "    </tr>\n",
       "  </tbody>\n",
       "</table>\n",
       "</div>"
      ],
      "text/plain": [
       "          title                                               cast  \\\n",
       "0    Four Rooms  [Tim Roth, Jennifer Beals, Antonio Banderas, V...   \n",
       "1     Star Wars  [Mark Hamill, Harrison Ford, Carrie Fisher, Pe...   \n",
       "2  Finding Nemo  [Albert Brooks, Ellen DeGeneres, Alexander Gou...   \n",
       "\n",
       "         director                                      keywords_data  \\\n",
       "0  Allison Anders    [hotel, new year's eve, witch, bet, hotel room]   \n",
       "1    George Lucas  [android, galaxy, hermit, smuggling (contraban...   \n",
       "2  Andrew Stanton  [parent child relationship, sydney, australia,...   \n",
       "\n",
       "                                 genres  \n",
       "0                       [Crime, Comedy]  \n",
       "1  [Adventure, Action, Science Fiction]  \n",
       "2                   [Animation, Family]  "
      ]
     },
     "execution_count": 202,
     "metadata": {},
     "output_type": "execute_result"
    }
   ],
   "source": [
    "qualified[['title', 'cast', 'director', 'keywords_data', 'genres']].head(3)"
   ]
  },
  {
   "cell_type": "code",
   "execution_count": 203,
   "metadata": {},
   "outputs": [],
   "source": [
    "def clean_data(x):\n",
    "    if isinstance(x, list):\n",
    "        return [str.lower(i.replace(' ', '')) for i in x]\n",
    "    else:\n",
    "        if isinstance(x, str):\n",
    "            return str.lower(x.replace(' ',''))\n",
    "        else:\n",
    "            return ''"
   ]
  },
  {
   "cell_type": "code",
   "execution_count": 204,
   "metadata": {},
   "outputs": [
    {
     "name": "stderr",
     "output_type": "stream",
     "text": [
      "C:\\Users\\yunyo\\AppData\\Local\\Temp\\ipykernel_13244\\2985393029.py:3: SettingWithCopyWarning: \n",
      "A value is trying to be set on a copy of a slice from a DataFrame.\n",
      "Try using .loc[row_indexer,col_indexer] = value instead\n",
      "\n",
      "See the caveats in the documentation: https://pandas.pydata.org/pandas-docs/stable/user_guide/indexing.html#returning-a-view-versus-a-copy\n",
      "  qualified[feature] = qualified[feature].apply(clean_data)\n",
      "C:\\Users\\yunyo\\AppData\\Local\\Temp\\ipykernel_13244\\2985393029.py:3: SettingWithCopyWarning: \n",
      "A value is trying to be set on a copy of a slice from a DataFrame.\n",
      "Try using .loc[row_indexer,col_indexer] = value instead\n",
      "\n",
      "See the caveats in the documentation: https://pandas.pydata.org/pandas-docs/stable/user_guide/indexing.html#returning-a-view-versus-a-copy\n",
      "  qualified[feature] = qualified[feature].apply(clean_data)\n",
      "C:\\Users\\yunyo\\AppData\\Local\\Temp\\ipykernel_13244\\2985393029.py:3: SettingWithCopyWarning: \n",
      "A value is trying to be set on a copy of a slice from a DataFrame.\n",
      "Try using .loc[row_indexer,col_indexer] = value instead\n",
      "\n",
      "See the caveats in the documentation: https://pandas.pydata.org/pandas-docs/stable/user_guide/indexing.html#returning-a-view-versus-a-copy\n",
      "  qualified[feature] = qualified[feature].apply(clean_data)\n",
      "C:\\Users\\yunyo\\AppData\\Local\\Temp\\ipykernel_13244\\2985393029.py:3: SettingWithCopyWarning: \n",
      "A value is trying to be set on a copy of a slice from a DataFrame.\n",
      "Try using .loc[row_indexer,col_indexer] = value instead\n",
      "\n",
      "See the caveats in the documentation: https://pandas.pydata.org/pandas-docs/stable/user_guide/indexing.html#returning-a-view-versus-a-copy\n",
      "  qualified[feature] = qualified[feature].apply(clean_data)\n"
     ]
    }
   ],
   "source": [
    "features = ['director', 'cast', 'keywords_data','genres']\n",
    "for feature in features:\n",
    "    qualified[feature] = qualified[feature].apply(clean_data)"
   ]
  },
  {
   "cell_type": "code",
   "execution_count": 205,
   "metadata": {},
   "outputs": [
    {
     "data": {
      "text/html": [
       "<div>\n",
       "<style scoped>\n",
       "    .dataframe tbody tr th:only-of-type {\n",
       "        vertical-align: middle;\n",
       "    }\n",
       "\n",
       "    .dataframe tbody tr th {\n",
       "        vertical-align: top;\n",
       "    }\n",
       "\n",
       "    .dataframe thead th {\n",
       "        text-align: right;\n",
       "    }\n",
       "</style>\n",
       "<table border=\"1\" class=\"dataframe\">\n",
       "  <thead>\n",
       "    <tr style=\"text-align: right;\">\n",
       "      <th></th>\n",
       "      <th>title</th>\n",
       "      <th>cast</th>\n",
       "      <th>director</th>\n",
       "      <th>keywords_data</th>\n",
       "      <th>genres</th>\n",
       "    </tr>\n",
       "  </thead>\n",
       "  <tbody>\n",
       "    <tr>\n",
       "      <th>0</th>\n",
       "      <td>Four Rooms</td>\n",
       "      <td>[timroth, jenniferbeals, antoniobanderas, vale...</td>\n",
       "      <td>allisonanders</td>\n",
       "      <td>[hotel, newyear'seve, witch, bet, hotelroom]</td>\n",
       "      <td>[crime, comedy]</td>\n",
       "    </tr>\n",
       "    <tr>\n",
       "      <th>1</th>\n",
       "      <td>Star Wars</td>\n",
       "      <td>[markhamill, harrisonford, carriefisher, peter...</td>\n",
       "      <td>georgelucas</td>\n",
       "      <td>[android, galaxy, hermit, smuggling(contraband...</td>\n",
       "      <td>[adventure, action, sciencefiction]</td>\n",
       "    </tr>\n",
       "    <tr>\n",
       "      <th>2</th>\n",
       "      <td>Finding Nemo</td>\n",
       "      <td>[albertbrooks, ellendegeneres, alexandergould,...</td>\n",
       "      <td>andrewstanton</td>\n",
       "      <td>[parentchildrelationship, sydney,australia, ha...</td>\n",
       "      <td>[animation, family]</td>\n",
       "    </tr>\n",
       "  </tbody>\n",
       "</table>\n",
       "</div>"
      ],
      "text/plain": [
       "          title                                               cast  \\\n",
       "0    Four Rooms  [timroth, jenniferbeals, antoniobanderas, vale...   \n",
       "1     Star Wars  [markhamill, harrisonford, carriefisher, peter...   \n",
       "2  Finding Nemo  [albertbrooks, ellendegeneres, alexandergould,...   \n",
       "\n",
       "        director                                      keywords_data  \\\n",
       "0  allisonanders       [hotel, newyear'seve, witch, bet, hotelroom]   \n",
       "1    georgelucas  [android, galaxy, hermit, smuggling(contraband...   \n",
       "2  andrewstanton  [parentchildrelationship, sydney,australia, ha...   \n",
       "\n",
       "                                genres  \n",
       "0                      [crime, comedy]  \n",
       "1  [adventure, action, sciencefiction]  \n",
       "2                  [animation, family]  "
      ]
     },
     "execution_count": 205,
     "metadata": {},
     "output_type": "execute_result"
    }
   ],
   "source": [
    "qualified[['title', 'cast', 'director', 'keywords_data', 'genres']].head(3)"
   ]
  },
  {
   "cell_type": "code",
   "execution_count": 206,
   "metadata": {},
   "outputs": [
    {
     "name": "stderr",
     "output_type": "stream",
     "text": [
      "C:\\Users\\yunyo\\AppData\\Local\\Temp\\ipykernel_13244\\612666141.py:3: SettingWithCopyWarning: \n",
      "A value is trying to be set on a copy of a slice from a DataFrame.\n",
      "Try using .loc[row_indexer,col_indexer] = value instead\n",
      "\n",
      "See the caveats in the documentation: https://pandas.pydata.org/pandas-docs/stable/user_guide/indexing.html#returning-a-view-versus-a-copy\n",
      "  qualified['soup'] = qualified.apply(create_soup, axis=1)\n"
     ]
    },
    {
     "data": {
      "text/plain": [
       "0       hotel newyear'seve witch bet hotelroom timroth...\n",
       "1       android galaxy hermit smuggling(contraband) su...\n",
       "2       parentchildrelationship sydney,australia harbo...\n",
       "3       vietnamveteran posttraumaticstressdisorder hip...\n",
       "4       adultery parentchildrelationship midlifecrisis...\n",
       "                              ...                        \n",
       "3952    newyorkcity mask trauma halloween college meli...\n",
       "3953    basedonnovelorbook suicideattempt remake flash...\n",
       "3954    sports basketball basedontruestory shoe during...\n",
       "3955    sportclimbing gracecarolinecurrey virginiagard...\n",
       "3956    behindthescenes makingof ewanmcgregor haydench...\n",
       "Name: soup, Length: 3957, dtype: object"
      ]
     },
     "execution_count": 206,
     "metadata": {},
     "output_type": "execute_result"
    }
   ],
   "source": [
    "def create_soup(x):\n",
    "    return ' '.join(x['keywords_data']) + ' ' + ' '.join(x['cast']) + ' ' + x['director'] + ' ' + ' '.join(x['genres'])\n",
    "qualified['soup'] = qualified.apply(create_soup, axis=1)\n",
    "qualified['soup']"
   ]
  },
  {
   "cell_type": "code",
   "execution_count": 207,
   "metadata": {},
   "outputs": [
    {
     "data": {
      "text/plain": [
       "<3957x13528 sparse matrix of type '<class 'numpy.int64'>'\n",
       "\twith 55079 stored elements in Compressed Sparse Row format>"
      ]
     },
     "execution_count": 207,
     "metadata": {},
     "output_type": "execute_result"
    }
   ],
   "source": [
    "count = CountVectorizer(stop_words='english')\n",
    "count_matrix = count.fit_transform(qualified['soup'])\n",
    "count_matrix"
   ]
  },
  {
   "cell_type": "code",
   "execution_count": 208,
   "metadata": {},
   "outputs": [
    {
     "data": {
      "text/plain": [
       "array([[1., 0., 0., ..., 0., 0., 0.],\n",
       "       [0., 1., 0., ..., 0., 0., 0.],\n",
       "       [0., 0., 1., ..., 0., 0., 0.],\n",
       "       ...,\n",
       "       [0., 0., 0., ..., 1., 0., 0.],\n",
       "       [0., 0., 0., ..., 0., 1., 0.],\n",
       "       [0., 0., 0., ..., 0., 0., 1.]])"
      ]
     },
     "execution_count": 208,
     "metadata": {},
     "output_type": "execute_result"
    }
   ],
   "source": [
    "cosine_sim2 = cosine_similarity(count_matrix, count_matrix)\n",
    "cosine_sim2"
   ]
  },
  {
   "cell_type": "code",
   "execution_count": 209,
   "metadata": {},
   "outputs": [
    {
     "data": {
      "text/plain": [
       "title\n",
       "Four Rooms                            0\n",
       "Star Wars                             1\n",
       "Finding Nemo                          2\n",
       "Forrest Gump                          3\n",
       "American Beauty                       4\n",
       "                                   ... \n",
       "Scream VI                          3952\n",
       "A Man Called Otto                  3953\n",
       "Air                                3954\n",
       "Fall                               3955\n",
       "Obi-Wan Kenobi: A Jedi's Return    3956\n",
       "Length: 3957, dtype: int64"
      ]
     },
     "execution_count": 209,
     "metadata": {},
     "output_type": "execute_result"
    }
   ],
   "source": [
    "indices"
   ]
  },
  {
   "cell_type": "code",
   "execution_count": 218,
   "metadata": {},
   "outputs": [
    {
     "data": {
      "text/plain": [
       "351              Harry Potter and the Goblet of Fire\n",
       "393           Harry Potter and the Half-Blood Prince\n",
       "349          Harry Potter and the Chamber of Secrets\n",
       "1801    Harry Potter and the Deathly Hallows: Part 2\n",
       "348         Harry Potter and the Philosopher's Stone\n",
       "352        Harry Potter and the Order of the Phoenix\n",
       "1800    Harry Potter and the Deathly Hallows: Part 1\n",
       "903                             Howl's Moving Castle\n",
       "2116                             Conan the Barbarian\n",
       "2366                       Oz the Great and Powerful\n",
       "Name: title, dtype: object"
      ]
     },
     "execution_count": 218,
     "metadata": {},
     "output_type": "execute_result"
    }
   ],
   "source": [
    "get_recommendations('Harry Potter and the Prisoner of Azkaban', cosine_sim2)"
   ]
  },
  {
   "cell_type": "code",
   "execution_count": 220,
   "metadata": {},
   "outputs": [
    {
     "data": {
      "text/plain": [
       "350"
      ]
     },
     "execution_count": 220,
     "metadata": {},
     "output_type": "execute_result"
    }
   ],
   "source": [
    "indices['Harry Potter and the Prisoner of Azkaban']"
   ]
  },
  {
   "cell_type": "code",
   "execution_count": 221,
   "metadata": {},
   "outputs": [
    {
     "data": {
      "text/plain": [
       "movie_id                                                       673\n",
       "title                     Harry Potter and the Prisoner of Azkaban\n",
       "release_date                                            2004-05-31\n",
       "popularity                                                 110.979\n",
       "vote_average                                                   8.0\n",
       "vote_count                                                   19605\n",
       "overview         Year three at Hogwarts means new fun and chall...\n",
       "poster_path                       /aWxwnYoe8p2d2fcxOqtvAtJ72Rw.jpg\n",
       "genres                                        [adventure, fantasy]\n",
       "cast             [danielradcliffe, rupertgrint, emmawatson, rob...\n",
       "crew             [{'adult': False, 'gender': 2, 'id': 491, 'kno...\n",
       "keywords         {'id': 673, 'keywords': [{'id': 334, 'name': '...\n",
       "keywords_data                 [flying, witch, bus, traitor, magic]\n",
       "score                                                     7.936142\n",
       "director                                             alfonsocuarón\n",
       "soup             flying witch bus traitor magic danielradcliffe...\n",
       "Name: 350, dtype: object"
      ]
     },
     "execution_count": 221,
     "metadata": {},
     "output_type": "execute_result"
    }
   ],
   "source": [
    "qualified.loc[350]"
   ]
  },
  {
   "cell_type": "code",
   "execution_count": 222,
   "metadata": {},
   "outputs": [
    {
     "data": {
      "text/plain": [
       "movie_id                                                       674\n",
       "title                          Harry Potter and the Goblet of Fire\n",
       "release_date                                            2005-11-16\n",
       "popularity                                                 141.916\n",
       "vote_average                                                   7.8\n",
       "vote_count                                                   18882\n",
       "overview         When Harry Potter's name emerges from the Gobl...\n",
       "poster_path                       /fECBtHlr0RB3foNHDiCBXeg9Bv9.jpg\n",
       "genres                                [adventure, fantasy, family]\n",
       "cast             [danielradcliffe, rupertgrint, emmawatson, bre...\n",
       "crew             [{'adult': False, 'gender': 2, 'id': 293, 'kno...\n",
       "keywords         {'id': 674, 'keywords': [{'id': 616, 'name': '...\n",
       "keywords_data    [witch, basedonnovelorbook, worldcup, maze, ma...\n",
       "score                                                     7.742004\n",
       "director                                                mikenewell\n",
       "soup             witch basedonnovelorbook worldcup maze magic d...\n",
       "Name: 351, dtype: object"
      ]
     },
     "execution_count": 222,
     "metadata": {},
     "output_type": "execute_result"
    }
   ],
   "source": [
    "qualified.loc[351]"
   ]
  },
  {
   "cell_type": "code",
   "execution_count": 223,
   "metadata": {},
   "outputs": [
    {
     "data": {
      "text/html": [
       "<div>\n",
       "<style scoped>\n",
       "    .dataframe tbody tr th:only-of-type {\n",
       "        vertical-align: middle;\n",
       "    }\n",
       "\n",
       "    .dataframe tbody tr th {\n",
       "        vertical-align: top;\n",
       "    }\n",
       "\n",
       "    .dataframe thead th {\n",
       "        text-align: right;\n",
       "    }\n",
       "</style>\n",
       "<table border=\"1\" class=\"dataframe\">\n",
       "  <thead>\n",
       "    <tr style=\"text-align: right;\">\n",
       "      <th></th>\n",
       "      <th>movie_id</th>\n",
       "      <th>title</th>\n",
       "      <th>score</th>\n",
       "      <th>release_date</th>\n",
       "      <th>overview</th>\n",
       "      <th>genres</th>\n",
       "      <th>director</th>\n",
       "      <th>cast</th>\n",
       "      <th>keywords_data</th>\n",
       "      <th>poster_path</th>\n",
       "    </tr>\n",
       "  </thead>\n",
       "  <tbody>\n",
       "    <tr>\n",
       "      <th>0</th>\n",
       "      <td>5</td>\n",
       "      <td>Four Rooms</td>\n",
       "      <td>5.948703</td>\n",
       "      <td>1995-12-09</td>\n",
       "      <td>It's Ted the Bellhop's first night on the job....</td>\n",
       "      <td>[crime, comedy]</td>\n",
       "      <td>allisonanders</td>\n",
       "      <td>[timroth, jenniferbeals, antoniobanderas, vale...</td>\n",
       "      <td>[hotel, newyear'seve, witch, bet, hotelroom]</td>\n",
       "      <td>/75aHn1NOYXh4M7L5shoeQ6NGykP.jpg</td>\n",
       "    </tr>\n",
       "    <tr>\n",
       "      <th>1</th>\n",
       "      <td>11</td>\n",
       "      <td>Star Wars</td>\n",
       "      <td>8.125107</td>\n",
       "      <td>1977-05-25</td>\n",
       "      <td>Princess Leia is captured and held hostage by ...</td>\n",
       "      <td>[adventure, action, sciencefiction]</td>\n",
       "      <td>georgelucas</td>\n",
       "      <td>[markhamill, harrisonford, carriefisher, peter...</td>\n",
       "      <td>[android, galaxy, hermit, smuggling(contraband...</td>\n",
       "      <td>/6FfCtAuVAW8XJjZ7eWeLibRLWTw.jpg</td>\n",
       "    </tr>\n",
       "    <tr>\n",
       "      <th>2</th>\n",
       "      <td>12</td>\n",
       "      <td>Finding Nemo</td>\n",
       "      <td>7.738437</td>\n",
       "      <td>2003-05-30</td>\n",
       "      <td>Nemo, an adventurous young clownfish, is unexp...</td>\n",
       "      <td>[animation, family]</td>\n",
       "      <td>andrewstanton</td>\n",
       "      <td>[albertbrooks, ellendegeneres, alexandergould,...</td>\n",
       "      <td>[parentchildrelationship, sydney,australia, ha...</td>\n",
       "      <td>/eHuGQ10FUzK1mdOY69wF5pGgEf5.jpg</td>\n",
       "    </tr>\n",
       "    <tr>\n",
       "      <th>3</th>\n",
       "      <td>13</td>\n",
       "      <td>Forrest Gump</td>\n",
       "      <td>8.433292</td>\n",
       "      <td>1994-06-23</td>\n",
       "      <td>A man with a low IQ has accomplished great thi...</td>\n",
       "      <td>[comedy, drama, romance]</td>\n",
       "      <td>robertzemeckis</td>\n",
       "      <td>[tomhanks, robinwright, garysinise, sallyfield...</td>\n",
       "      <td>[vietnamveteran, posttraumaticstressdisorder, ...</td>\n",
       "      <td>/arw2vcBveWOVZr6pxd9XTd1TdQa.jpg</td>\n",
       "    </tr>\n",
       "    <tr>\n",
       "      <th>4</th>\n",
       "      <td>14</td>\n",
       "      <td>American Beauty</td>\n",
       "      <td>7.889885</td>\n",
       "      <td>1999-09-15</td>\n",
       "      <td>Lester Burnham, a depressed suburban father in...</td>\n",
       "      <td>[drama]</td>\n",
       "      <td>sammendes</td>\n",
       "      <td>[kevinspacey, annettebening, thorabirch, wesbe...</td>\n",
       "      <td>[adultery, parentchildrelationship, midlifecri...</td>\n",
       "      <td>/wby9315QzVKdW9BonAefg8jGTTb.jpg</td>\n",
       "    </tr>\n",
       "  </tbody>\n",
       "</table>\n",
       "</div>"
      ],
      "text/plain": [
       "   movie_id            title     score release_date  \\\n",
       "0         5       Four Rooms  5.948703   1995-12-09   \n",
       "1        11        Star Wars  8.125107   1977-05-25   \n",
       "2        12     Finding Nemo  7.738437   2003-05-30   \n",
       "3        13     Forrest Gump  8.433292   1994-06-23   \n",
       "4        14  American Beauty  7.889885   1999-09-15   \n",
       "\n",
       "                                            overview  \\\n",
       "0  It's Ted the Bellhop's first night on the job....   \n",
       "1  Princess Leia is captured and held hostage by ...   \n",
       "2  Nemo, an adventurous young clownfish, is unexp...   \n",
       "3  A man with a low IQ has accomplished great thi...   \n",
       "4  Lester Burnham, a depressed suburban father in...   \n",
       "\n",
       "                                genres        director  \\\n",
       "0                      [crime, comedy]   allisonanders   \n",
       "1  [adventure, action, sciencefiction]     georgelucas   \n",
       "2                  [animation, family]   andrewstanton   \n",
       "3             [comedy, drama, romance]  robertzemeckis   \n",
       "4                              [drama]       sammendes   \n",
       "\n",
       "                                                cast  \\\n",
       "0  [timroth, jenniferbeals, antoniobanderas, vale...   \n",
       "1  [markhamill, harrisonford, carriefisher, peter...   \n",
       "2  [albertbrooks, ellendegeneres, alexandergould,...   \n",
       "3  [tomhanks, robinwright, garysinise, sallyfield...   \n",
       "4  [kevinspacey, annettebening, thorabirch, wesbe...   \n",
       "\n",
       "                                       keywords_data  \\\n",
       "0       [hotel, newyear'seve, witch, bet, hotelroom]   \n",
       "1  [android, galaxy, hermit, smuggling(contraband...   \n",
       "2  [parentchildrelationship, sydney,australia, ha...   \n",
       "3  [vietnamveteran, posttraumaticstressdisorder, ...   \n",
       "4  [adultery, parentchildrelationship, midlifecri...   \n",
       "\n",
       "                        poster_path  \n",
       "0  /75aHn1NOYXh4M7L5shoeQ6NGykP.jpg  \n",
       "1  /6FfCtAuVAW8XJjZ7eWeLibRLWTw.jpg  \n",
       "2  /eHuGQ10FUzK1mdOY69wF5pGgEf5.jpg  \n",
       "3  /arw2vcBveWOVZr6pxd9XTd1TdQa.jpg  \n",
       "4  /wby9315QzVKdW9BonAefg8jGTTb.jpg  "
      ]
     },
     "execution_count": 223,
     "metadata": {},
     "output_type": "execute_result"
    }
   ],
   "source": [
    "movies = qualified[['movie_id', 'title', 'score', 'release_date', 'overview', 'genres', 'director', 'cast', 'keywords_data', 'poster_path']].copy()\n",
    "movies.head()"
   ]
  },
  {
   "cell_type": "code",
   "execution_count": null,
   "metadata": {},
   "outputs": [],
   "source": [
    "pickle.dump(movies, open('movies.pkl', 'wb'))\n",
    "pickle.dump(cosine_sim2, open('cosine_sim2.pkl', 'wb'))"
   ]
  },
  {
   "cell_type": "code",
   "execution_count": null,
   "metadata": {},
   "outputs": [],
   "source": []
  }
 ],
 "metadata": {
  "kernelspec": {
   "display_name": "project",
   "language": "python",
   "name": "python3"
  },
  "language_info": {
   "codemirror_mode": {
    "name": "ipython",
    "version": 3
   },
   "file_extension": ".py",
   "mimetype": "text/x-python",
   "name": "python",
   "nbconvert_exporter": "python",
   "pygments_lexer": "ipython3",
   "version": "3.8.16"
  },
  "orig_nbformat": 4
 },
 "nbformat": 4,
 "nbformat_minor": 2
}
